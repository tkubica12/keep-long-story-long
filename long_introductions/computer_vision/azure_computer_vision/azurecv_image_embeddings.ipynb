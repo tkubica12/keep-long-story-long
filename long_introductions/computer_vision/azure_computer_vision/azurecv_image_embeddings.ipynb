{
 "cells": [
  {
   "attachments": {},
   "cell_type": "markdown",
   "metadata": {},
   "source": [
    "# Get image embeddings from Azure Computer Vision"
   ]
  },
  {
   "cell_type": "code",
   "execution_count": 13,
   "metadata": {},
   "outputs": [],
   "source": [
    "# imports\n",
    "import requests\n",
    "from tenacity import retry, stop_after_attempt, wait_random_exponential\n",
    "import os\n",
    "from dotenv import load_dotenv\n",
    "import pandas as pd"
   ]
  },
  {
   "cell_type": "code",
   "execution_count": 9,
   "metadata": {},
   "outputs": [],
   "source": [
    "# Load envs\n",
    "load_dotenv('.env')\n",
    "\n",
    "# Azure Computer Vision\n",
    "key = os.getenv(\"azure_cv_key\")\n",
    "endpoint = os.getenv(\"azure_cv_endpoint\")\n",
    "\n",
    "# Images to process\n",
    "image_dir = './val2017/'"
   ]
  },
  {
   "cell_type": "code",
   "execution_count": 8,
   "metadata": {},
   "outputs": [],
   "source": [
    "@retry(wait=wait_random_exponential(min=1, max=60), stop=stop_after_attempt(6)) # automatic retry in case of a failing API call\n",
    "def get_embedding(imagefile):\n",
    "    \"\"\"\n",
    "    Get embedding from an image using Azure Computer Vision 4\n",
    "    \"\"\"\n",
    "    # settings\n",
    "    model = \"?api-version=2023-02-01-preview&modelVersion=latest\"\n",
    "    url = endpoint + \"/computervision/retrieval:vectorizeImage\" + model\n",
    "    headers = {\n",
    "        \"Content-type\": \"application/octet-stream\",\n",
    "        \"Ocp-Apim-Subscription-Key\": key,\n",
    "    }\n",
    "\n",
    "    # Read the image file\n",
    "    with open(imagefile, \"rb\") as f:\n",
    "        data = f.read()\n",
    "\n",
    "    # Sending the requests\n",
    "    r = requests.post(url, data=data, headers=headers)\n",
    "    results = r.json()\n",
    "    embeddings = results['vector']\n",
    "\n",
    "    return embeddings"
   ]
  },
  {
   "cell_type": "code",
   "execution_count": null,
   "metadata": {},
   "outputs": [],
   "source": [
    "df = pd.DataFrame()\n",
    "num_files = len(os.listdir(image_dir))\n",
    "for i, filename in enumerate(os.listdir(image_dir)):\n",
    "    print(f\"{i} out of {num_files} - {filename}\")\n",
    "    embedding = get_embedding(image_dir + filename)\n",
    "    row = pd.DataFrame({\"filename\": filename, \"embedding\": [embedding]})\n",
    "    df = pd.concat([df, row], axis=0)"
   ]
  },
  {
   "cell_type": "code",
   "execution_count": null,
   "metadata": {},
   "outputs": [],
   "source": [
    "df.sample(20)"
   ]
  },
  {
   "cell_type": "code",
   "execution_count": 58,
   "metadata": {},
   "outputs": [],
   "source": [
    "# Save results\n",
    "df.to_parquet(\"azurecv_image_embeddings.parquet\")"
   ]
  }
 ],
 "metadata": {
  "kernelspec": {
   "display_name": "Python 3",
   "language": "python",
   "name": "python3"
  },
  "language_info": {
   "codemirror_mode": {
    "name": "ipython",
    "version": 3
   },
   "file_extension": ".py",
   "mimetype": "text/x-python",
   "name": "python",
   "nbconvert_exporter": "python",
   "pygments_lexer": "ipython3",
   "version": "3.11.2"
  },
  "orig_nbformat": 4
 },
 "nbformat": 4,
 "nbformat_minor": 2
}
