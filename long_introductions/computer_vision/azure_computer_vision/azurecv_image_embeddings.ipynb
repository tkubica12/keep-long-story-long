{
 "cells": [
  {
   "attachments": {},
   "cell_type": "markdown",
   "metadata": {},
   "source": [
    "# Get image embeddings from Azure Computer Vision"
   ]
  },
  {
   "cell_type": "code",
   "execution_count": 13,
   "metadata": {},
   "outputs": [],
   "source": [
    "# imports\n",
    "import requests\n",
    "from tenacity import retry, stop_after_attempt, wait_random_exponential\n",
    "import os\n",
    "from dotenv import load_dotenv\n",
    "import pandas as pd"
   ]
  },
  {
   "cell_type": "code",
   "execution_count": 9,
   "metadata": {},
   "outputs": [],
   "source": [
    "# Load envs\n",
    "load_dotenv('.env')\n",
    "\n",
    "# Azure Computer Vision\n",
    "key = os.getenv(\"azure_cv_key\")\n",
    "endpoint = os.getenv(\"azure_cv_endpoint\")\n",
    "\n",
    "# Images to process\n",
    "image_dir = './val2017/'"
   ]
  },
  {
   "cell_type": "code",
   "execution_count": 8,
   "metadata": {},
   "outputs": [],
   "source": [
    "@retry(wait=wait_random_exponential(min=1, max=60), stop=stop_after_attempt(6)) # automatic retry in case of a failing API call\n",
    "def get_embedding(imagefile):\n",
    "    \"\"\"\n",
    "    Get embedding from an image using Azure Computer Vision 4\n",
    "    \"\"\"\n",
    "    # settings\n",
    "    model = \"?api-version=2023-02-01-preview&modelVersion=latest\"\n",
    "    url = endpoint + \"/computervision/retrieval:vectorizeImage\" + model\n",
    "    headers = {\n",
    "        \"Content-type\": \"application/octet-stream\",\n",
    "        \"Ocp-Apim-Subscription-Key\": key,\n",
    "    }\n",
    "\n",
    "    # Read the image file\n",
    "    with open(imagefile, \"rb\") as f:\n",
    "        data = f.read()\n",
    "\n",
    "    # Sending the requests\n",
    "    r = requests.post(url, data=data, headers=headers)\n",
    "    results = r.json()\n",
    "    embeddings = results['vector']\n",
    "\n",
    "    return embeddings"
   ]
  },
  {
   "cell_type": "code",
   "execution_count": null,
   "metadata": {},
   "outputs": [],
   "source": [
    "df = pd.DataFrame()\n",
    "num_files = len(os.listdir(image_dir))\n",
    "for i, filename in enumerate(os.listdir(image_dir)):\n",
    "    print(f\"{i} out of {num_files} - {filename}\")\n",
    "    embedding = get_embedding(image_dir + filename)\n",
    "    row = pd.DataFrame({\"filename\": filename, \"embedding\": [embedding]})\n",
    "    df = pd.concat([df, row], axis=0)"
   ]
  },
  {
   "cell_type": "code",
   "execution_count": 2,
   "metadata": {},
   "outputs": [
    {
     "data": {
      "text/html": [
       "<div>\n",
       "<style scoped>\n",
       "    .dataframe tbody tr th:only-of-type {\n",
       "        vertical-align: middle;\n",
       "    }\n",
       "\n",
       "    .dataframe tbody tr th {\n",
       "        vertical-align: top;\n",
       "    }\n",
       "\n",
       "    .dataframe thead th {\n",
       "        text-align: right;\n",
       "    }\n",
       "</style>\n",
       "<table border=\"1\" class=\"dataframe\">\n",
       "  <thead>\n",
       "    <tr style=\"text-align: right;\">\n",
       "      <th></th>\n",
       "      <th>filename</th>\n",
       "      <th>embedding</th>\n",
       "    </tr>\n",
       "  </thead>\n",
       "  <tbody>\n",
       "    <tr>\n",
       "      <th>0</th>\n",
       "      <td>000000153299.jpg</td>\n",
       "      <td>[-4.0234375, 2.1035156, -3.0058594, -2.7753906...</td>\n",
       "    </tr>\n",
       "    <tr>\n",
       "      <th>0</th>\n",
       "      <td>000000168337.jpg</td>\n",
       "      <td>[-2.8046875, 3.3261719, 0.8041992, -0.42211914...</td>\n",
       "    </tr>\n",
       "    <tr>\n",
       "      <th>0</th>\n",
       "      <td>000000347664.jpg</td>\n",
       "      <td>[-1.4189453, -1.4560547, 1.7724609, 1.2861328,...</td>\n",
       "    </tr>\n",
       "    <tr>\n",
       "      <th>0</th>\n",
       "      <td>000000255401.jpg</td>\n",
       "      <td>[-0.13977051, 0.40551758, -2.4082031, -0.05279...</td>\n",
       "    </tr>\n",
       "    <tr>\n",
       "      <th>0</th>\n",
       "      <td>000000018833.jpg</td>\n",
       "      <td>[-0.69189453, -0.18640137, -3.3378906, 0.15905...</td>\n",
       "    </tr>\n",
       "    <tr>\n",
       "      <th>0</th>\n",
       "      <td>000000311518.jpg</td>\n",
       "      <td>[-0.6010742, 2.609375, 5.234375, -0.28808594, ...</td>\n",
       "    </tr>\n",
       "    <tr>\n",
       "      <th>0</th>\n",
       "      <td>000000288042.jpg</td>\n",
       "      <td>[-3.1171875, 2.1113281, 2.4179688, 3.0644531, ...</td>\n",
       "    </tr>\n",
       "    <tr>\n",
       "      <th>0</th>\n",
       "      <td>000000520264.jpg</td>\n",
       "      <td>[-2.4902344, 0.14440918, 1.4882812, -1.4208984...</td>\n",
       "    </tr>\n",
       "    <tr>\n",
       "      <th>0</th>\n",
       "      <td>000000013774.jpg</td>\n",
       "      <td>[3.6230469, 0.796875, 3.7246094, 0.42529297, -...</td>\n",
       "    </tr>\n",
       "    <tr>\n",
       "      <th>0</th>\n",
       "      <td>000000377497.jpg</td>\n",
       "      <td>[-1.140625, -0.32373047, -2.5703125, -1.544921...</td>\n",
       "    </tr>\n",
       "    <tr>\n",
       "      <th>0</th>\n",
       "      <td>000000577735.jpg</td>\n",
       "      <td>[3.1074219, 2.3144531, -3.6152344, -0.75634766...</td>\n",
       "    </tr>\n",
       "    <tr>\n",
       "      <th>0</th>\n",
       "      <td>000000293858.jpg</td>\n",
       "      <td>[-1.1025391, 4.2304688, -3.4042969, 0.8652344,...</td>\n",
       "    </tr>\n",
       "    <tr>\n",
       "      <th>0</th>\n",
       "      <td>000000172935.jpg</td>\n",
       "      <td>[-1.1552734, -2.3554688, -2.9101562, 2.3242188...</td>\n",
       "    </tr>\n",
       "    <tr>\n",
       "      <th>0</th>\n",
       "      <td>000000079565.jpg</td>\n",
       "      <td>[0.08905029, 0.07751465, 0.28295898, -1.131835...</td>\n",
       "    </tr>\n",
       "    <tr>\n",
       "      <th>0</th>\n",
       "      <td>000000451043.jpg</td>\n",
       "      <td>[0.5341797, 0.05795288, 0.99853516, 5.1757812,...</td>\n",
       "    </tr>\n",
       "    <tr>\n",
       "      <th>0</th>\n",
       "      <td>000000374083.jpg</td>\n",
       "      <td>[-0.27124023, 3.296875, -1.4912109, -3.3964844...</td>\n",
       "    </tr>\n",
       "    <tr>\n",
       "      <th>0</th>\n",
       "      <td>000000155179.jpg</td>\n",
       "      <td>[-6.4453125, -0.033569336, -2.6503906, -0.6450...</td>\n",
       "    </tr>\n",
       "    <tr>\n",
       "      <th>0</th>\n",
       "      <td>000000191672.jpg</td>\n",
       "      <td>[0.45361328, 0.96240234, -1.8710938, 3.0136719...</td>\n",
       "    </tr>\n",
       "    <tr>\n",
       "      <th>0</th>\n",
       "      <td>000000453981.jpg</td>\n",
       "      <td>[-2.4101562, 2.65625, -2.1210938, 0.23425293, ...</td>\n",
       "    </tr>\n",
       "    <tr>\n",
       "      <th>0</th>\n",
       "      <td>000000523807.jpg</td>\n",
       "      <td>[0.21105957, 4.0273438, -0.22583008, -2.326171...</td>\n",
       "    </tr>\n",
       "  </tbody>\n",
       "</table>\n",
       "</div>"
      ],
      "text/plain": [
       "           filename                                          embedding\n",
       "0  000000153299.jpg  [-4.0234375, 2.1035156, -3.0058594, -2.7753906...\n",
       "0  000000168337.jpg  [-2.8046875, 3.3261719, 0.8041992, -0.42211914...\n",
       "0  000000347664.jpg  [-1.4189453, -1.4560547, 1.7724609, 1.2861328,...\n",
       "0  000000255401.jpg  [-0.13977051, 0.40551758, -2.4082031, -0.05279...\n",
       "0  000000018833.jpg  [-0.69189453, -0.18640137, -3.3378906, 0.15905...\n",
       "0  000000311518.jpg  [-0.6010742, 2.609375, 5.234375, -0.28808594, ...\n",
       "0  000000288042.jpg  [-3.1171875, 2.1113281, 2.4179688, 3.0644531, ...\n",
       "0  000000520264.jpg  [-2.4902344, 0.14440918, 1.4882812, -1.4208984...\n",
       "0  000000013774.jpg  [3.6230469, 0.796875, 3.7246094, 0.42529297, -...\n",
       "0  000000377497.jpg  [-1.140625, -0.32373047, -2.5703125, -1.544921...\n",
       "0  000000577735.jpg  [3.1074219, 2.3144531, -3.6152344, -0.75634766...\n",
       "0  000000293858.jpg  [-1.1025391, 4.2304688, -3.4042969, 0.8652344,...\n",
       "0  000000172935.jpg  [-1.1552734, -2.3554688, -2.9101562, 2.3242188...\n",
       "0  000000079565.jpg  [0.08905029, 0.07751465, 0.28295898, -1.131835...\n",
       "0  000000451043.jpg  [0.5341797, 0.05795288, 0.99853516, 5.1757812,...\n",
       "0  000000374083.jpg  [-0.27124023, 3.296875, -1.4912109, -3.3964844...\n",
       "0  000000155179.jpg  [-6.4453125, -0.033569336, -2.6503906, -0.6450...\n",
       "0  000000191672.jpg  [0.45361328, 0.96240234, -1.8710938, 3.0136719...\n",
       "0  000000453981.jpg  [-2.4101562, 2.65625, -2.1210938, 0.23425293, ...\n",
       "0  000000523807.jpg  [0.21105957, 4.0273438, -0.22583008, -2.326171..."
      ]
     },
     "execution_count": 2,
     "metadata": {},
     "output_type": "execute_result"
    }
   ],
   "source": [
    "df.sample(20)"
   ]
  },
  {
   "cell_type": "code",
   "execution_count": 10,
   "metadata": {},
   "outputs": [
    {
     "data": {
      "text/plain": [
       "(1024,)"
      ]
     },
     "execution_count": 10,
     "metadata": {},
     "output_type": "execute_result"
    }
   ],
   "source": [
    "# Embeddings shape\n",
    "df.iloc[0]['embedding'].shape"
   ]
  },
  {
   "cell_type": "code",
   "execution_count": 58,
   "metadata": {},
   "outputs": [],
   "source": [
    "# Save results\n",
    "df.to_parquet(\"azurecv_image_embeddings.parquet\")"
   ]
  }
 ],
 "metadata": {
  "kernelspec": {
   "display_name": "Python 3",
   "language": "python",
   "name": "python3"
  },
  "language_info": {
   "codemirror_mode": {
    "name": "ipython",
    "version": 3
   },
   "file_extension": ".py",
   "mimetype": "text/x-python",
   "name": "python",
   "nbconvert_exporter": "python",
   "pygments_lexer": "ipython3",
   "version": "3.11.2"
  },
  "orig_nbformat": 4
 },
 "nbformat": 4,
 "nbformat_minor": 2
}
